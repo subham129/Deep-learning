{
  "nbformat": 4,
  "nbformat_minor": 0,
  "metadata": {
    "colab": {
      "provenance": [],
      "authorship_tag": "ABX9TyPwahz0enHTg+PDHDIreTYz",
      "include_colab_link": true
    },
    "kernelspec": {
      "name": "python3",
      "display_name": "Python 3"
    },
    "language_info": {
      "name": "python"
    }
  },
  "cells": [
    {
      "cell_type": "markdown",
      "metadata": {
        "id": "view-in-github",
        "colab_type": "text"
      },
      "source": [
        "<a href=\"https://colab.research.google.com/github/subham129/Deep-learning/blob/main/loss_or_cost_function.ipynb\" target=\"_parent\"><img src=\"https://colab.research.google.com/assets/colab-badge.svg\" alt=\"Open In Colab\"/></a>"
      ]
    },
    {
      "cell_type": "code",
      "execution_count": 1,
      "metadata": {
        "id": "T8lNGIcw5ASu"
      },
      "outputs": [],
      "source": [
        "import numpy as np\n",
        "import pandas as pd"
      ]
    },
    {
      "cell_type": "code",
      "source": [
        "y_pred = np.array([1,1,0,0,1])\n",
        "y_true = np.array([0.30,0.7,1,0,0.5])"
      ],
      "metadata": {
        "id": "QB5sGJWH6EY4"
      },
      "execution_count": 2,
      "outputs": []
    },
    {
      "cell_type": "code",
      "source": [
        "def mae(y_true,y_pred):\n",
        "  total_error = 0\n",
        "  for yt, yp in zip(y_true,y_pred):\n",
        "    total_error += abs(yt-yp)\n",
        "  print('total Error:',total_error)\n",
        "  mae = total_error/len(y_true)\n",
        "  print('mae',mae)\n",
        "  return mae"
      ],
      "metadata": {
        "id": "vtaEmrD66f22"
      },
      "execution_count": 3,
      "outputs": []
    },
    {
      "cell_type": "code",
      "source": [
        "mae(y_true,y_pred)"
      ],
      "metadata": {
        "colab": {
          "base_uri": "https://localhost:8080/"
        },
        "id": "pG2rUktl7IQo",
        "outputId": "8b599b12-5bc4-4d8b-ccdc-4d49741ad5ad"
      },
      "execution_count": 4,
      "outputs": [
        {
          "output_type": "stream",
          "name": "stdout",
          "text": [
            "total Error: 2.5\n",
            "mae 0.5\n"
          ]
        },
        {
          "output_type": "execute_result",
          "data": {
            "text/plain": [
              "0.5"
            ]
          },
          "metadata": {},
          "execution_count": 4
        }
      ]
    },
    {
      "cell_type": "code",
      "source": [
        "np.mean(np.abs(y_pred - y_true))"
      ],
      "metadata": {
        "colab": {
          "base_uri": "https://localhost:8080/"
        },
        "id": "i0iWK9do7a0F",
        "outputId": "6a92f89a-2816-4813-c342-161b5e5b9e23"
      },
      "execution_count": 5,
      "outputs": [
        {
          "output_type": "execute_result",
          "data": {
            "text/plain": [
              "0.5"
            ]
          },
          "metadata": {},
          "execution_count": 5
        }
      ]
    },
    {
      "cell_type": "code",
      "source": [
        "np.log([0.00000000001])"
      ],
      "metadata": {
        "colab": {
          "base_uri": "https://localhost:8080/"
        },
        "id": "sRR9PH9i8ZMn",
        "outputId": "2432ca98-7a44-4cbd-c9d1-f5b2ece973af"
      },
      "execution_count": 6,
      "outputs": [
        {
          "output_type": "execute_result",
          "data": {
            "text/plain": [
              "array([-25.32843602])"
            ]
          },
          "metadata": {},
          "execution_count": 6
        }
      ]
    },
    {
      "cell_type": "code",
      "source": [
        "eplison = 1e-15\n",
        "y_pred_new = [max(i,eplison) for i in y_pred]\n",
        "y_pred_new"
      ],
      "metadata": {
        "colab": {
          "base_uri": "https://localhost:8080/"
        },
        "id": "-9XRw3KL8hKO",
        "outputId": "67d81691-ff30-4e6f-9469-db43b8764509"
      },
      "execution_count": 7,
      "outputs": [
        {
          "output_type": "execute_result",
          "data": {
            "text/plain": [
              "[1, 1, 1e-15, 1e-15, 1]"
            ]
          },
          "metadata": {},
          "execution_count": 7
        }
      ]
    },
    {
      "cell_type": "code",
      "source": [
        "y_pred_new = [min(i,eplison) for i in y_pred]\n",
        "y_pred_new"
      ],
      "metadata": {
        "colab": {
          "base_uri": "https://localhost:8080/"
        },
        "id": "Px9bsrdW80UP",
        "outputId": "f6902d7d-4eae-4060-e933-4476ed0ff8dd"
      },
      "execution_count": 8,
      "outputs": [
        {
          "output_type": "execute_result",
          "data": {
            "text/plain": [
              "[1e-15, 1e-15, 0, 0, 1e-15]"
            ]
          },
          "metadata": {},
          "execution_count": 8
        }
      ]
    },
    {
      "cell_type": "code",
      "source": [
        "y_pred_new = np.array(y_pred_new)"
      ],
      "metadata": {
        "id": "6uPZKeWk890d"
      },
      "execution_count": 9,
      "outputs": []
    },
    {
      "cell_type": "code",
      "source": [
        "-np.mean(y_true*np.log(y_pred_new)+(1-y_true)*np.log(1-y_pred_new))"
      ],
      "metadata": {
        "colab": {
          "base_uri": "https://localhost:8080/"
        },
        "id": "8d6kBJ6s9ZtH",
        "outputId": "92b57bbd-894d-40d7-88f5-8bc0e449e5f7"
      },
      "execution_count": 10,
      "outputs": [
        {
          "output_type": "stream",
          "name": "stderr",
          "text": [
            "<ipython-input-10-7b1793610236>:1: RuntimeWarning: divide by zero encountered in log\n",
            "  -np.mean(y_true*np.log(y_pred_new)+(1-y_true)*np.log(1-y_pred_new))\n",
            "<ipython-input-10-7b1793610236>:1: RuntimeWarning: invalid value encountered in multiply\n",
            "  -np.mean(y_true*np.log(y_pred_new)+(1-y_true)*np.log(1-y_pred_new))\n"
          ]
        },
        {
          "output_type": "execute_result",
          "data": {
            "text/plain": [
              "nan"
            ]
          },
          "metadata": {},
          "execution_count": 10
        }
      ]
    },
    {
      "cell_type": "code",
      "source": [
        "def log_loss(y_true, y_pred):\n",
        "    y_pred_new = [max(i,eplison) for i in y_pred]\n",
        "    y_pred_new = [min(i,1-eplison) for i in y_pred_new]\n",
        "    y_pred_new = np.array(y_pred_new)\n",
        "    return -np.mean(y_true*np.log(y_pred_new)+(1-y_true)*np.log(1-y_pred_new))"
      ],
      "metadata": {
        "id": "G6_m8ceG9fM8"
      },
      "execution_count": 11,
      "outputs": []
    },
    {
      "cell_type": "code",
      "source": [
        "log_loss(y_true,y_pred)"
      ],
      "metadata": {
        "colab": {
          "base_uri": "https://localhost:8080/"
        },
        "id": "3y28kWn090Rp",
        "outputId": "742f2835-9833-4c7d-bc7a-b347bf544215"
      },
      "execution_count": 12,
      "outputs": [
        {
          "output_type": "execute_result",
          "data": {
            "text/plain": [
              "17.2696280766844"
            ]
          },
          "metadata": {},
          "execution_count": 12
        }
      ]
    },
    {
      "cell_type": "code",
      "source": [
        "def mse(y_true, y_pred):\n",
        "    total_error = 0\n",
        "    for yt, yp in zip(y_true, y_pred):\n",
        "        total_error += (yt-yp)**2\n",
        "    print(\"Total Squared Error:\",total_error)\n",
        "    mse = total_error/len(y_true)\n",
        "    print(\"Mean Squared Error:\",mse)\n",
        "    return mse\n",
        "mse(y_true, y_pred)"
      ],
      "metadata": {
        "colab": {
          "base_uri": "https://localhost:8080/"
        },
        "id": "6AmogBhs-TPi",
        "outputId": "4c8b0df0-b6f0-485a-ac51-78d08f7d8e3e"
      },
      "execution_count": 13,
      "outputs": [
        {
          "output_type": "stream",
          "name": "stdout",
          "text": [
            "Total Squared Error: 1.83\n",
            "Mean Squared Error: 0.366\n"
          ]
        },
        {
          "output_type": "execute_result",
          "data": {
            "text/plain": [
              "0.366"
            ]
          },
          "metadata": {},
          "execution_count": 13
        }
      ]
    },
    {
      "cell_type": "code",
      "source": [
        "\n",
        "np.mean(np.square(y_true-y_pred))"
      ],
      "metadata": {
        "id": "uHze0nMW-eC1",
        "outputId": "25ab0beb-3f2b-496d-a9b8-7610d9396252",
        "colab": {
          "base_uri": "https://localhost:8080/"
        }
      },
      "execution_count": 15,
      "outputs": [
        {
          "output_type": "execute_result",
          "data": {
            "text/plain": [
              "0.366"
            ]
          },
          "metadata": {},
          "execution_count": 15
        }
      ]
    }
  ]
}