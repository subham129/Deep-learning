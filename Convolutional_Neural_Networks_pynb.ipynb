{
  "nbformat": 4,
  "nbformat_minor": 0,
  "metadata": {
    "colab": {
      "provenance": [],
      "gpuType": "V28",
      "authorship_tag": "ABX9TyO9Z/93ipWsuzpLCBMPuOqj",
      "include_colab_link": true
    },
    "kernelspec": {
      "name": "python3",
      "display_name": "Python 3"
    },
    "language_info": {
      "name": "python"
    },
    "accelerator": "TPU"
  },
  "cells": [
    {
      "cell_type": "markdown",
      "metadata": {
        "id": "view-in-github",
        "colab_type": "text"
      },
      "source": [
        "<a href=\"https://colab.research.google.com/github/subham129/Deep-learning/blob/main/Convolutional_Neural_Networks_pynb.ipynb\" target=\"_parent\"><img src=\"https://colab.research.google.com/assets/colab-badge.svg\" alt=\"Open In Colab\"/></a>"
      ]
    },
    {
      "cell_type": "code",
      "execution_count": 1,
      "metadata": {
        "id": "mBdlf2iO8lzn"
      },
      "outputs": [],
      "source": [
        "import tensorflow as tf\n",
        "from tensorflow.keras import datasets,layers,models\n",
        "import matplotlib.pyplot as plt\n",
        "import numpy as np\n",
        "from tensorflow import keras"
      ]
    },
    {
      "cell_type": "code",
      "source": [
        "(x_train,y_train),(x_test,y_test) = datasets.cifar10.load_data()\n",
        "x_train.shape"
      ],
      "metadata": {
        "colab": {
          "base_uri": "https://localhost:8080/"
        },
        "id": "3nqJt76PKZ1c",
        "outputId": "4f6b9df0-3a03-4b3a-e2fb-fddd44c2ba5a"
      },
      "execution_count": 2,
      "outputs": [
        {
          "output_type": "stream",
          "name": "stdout",
          "text": [
            "Downloading data from https://www.cs.toronto.edu/~kriz/cifar-10-python.tar.gz\n",
            "170498071/170498071 [==============================] - 2s 0us/step\n"
          ]
        },
        {
          "output_type": "execute_result",
          "data": {
            "text/plain": [
              "(50000, 32, 32, 3)"
            ]
          },
          "metadata": {},
          "execution_count": 2
        }
      ]
    },
    {
      "cell_type": "code",
      "source": [
        "x_test.shape"
      ],
      "metadata": {
        "colab": {
          "base_uri": "https://localhost:8080/"
        },
        "id": "CsOV-SwMKjzo",
        "outputId": "dabb2d3a-32d7-46a8-dc24-d89d9852baa6"
      },
      "execution_count": 3,
      "outputs": [
        {
          "output_type": "execute_result",
          "data": {
            "text/plain": [
              "(10000, 32, 32, 3)"
            ]
          },
          "metadata": {},
          "execution_count": 3
        }
      ]
    },
    {
      "cell_type": "code",
      "source": [
        "classes = [\"airplane\",\"automobile\",\"bird\",\"cat\",\"deer\",\"dog\",\"frog\",\"horse\",\"ship\",\"truck\"]"
      ],
      "metadata": {
        "id": "8Jho_zFIL_iw"
      },
      "execution_count": 4,
      "outputs": []
    },
    {
      "cell_type": "code",
      "source": [
        "y_train = y_train.reshape(-1,)\n",
        "y_test = y_test.reshape(-1,)"
      ],
      "metadata": {
        "id": "5JZtxx_LLoyD"
      },
      "execution_count": 5,
      "outputs": []
    },
    {
      "cell_type": "code",
      "source": [
        "def plt_sample(x,y,index):\n",
        "  plt.figure(figsize=(15,2))\n",
        "  plt.imshow(x_train[index])\n",
        "  plt.xlabel(classes[y[index]])"
      ],
      "metadata": {
        "id": "H0O6D9fHLEUd"
      },
      "execution_count": 6,
      "outputs": []
    },
    {
      "cell_type": "code",
      "source": [
        "plt_sample(x_train,y_train,3)"
      ],
      "metadata": {
        "colab": {
          "base_uri": "https://localhost:8080/",
          "height": 237
        },
        "id": "_5JgQwo9L8vg",
        "outputId": "7b1e3c55-56ec-40c0-e2f8-a4f52568d99c"
      },
      "execution_count": 7,
      "outputs": [
        {
          "output_type": "display_data",
          "data": {
            "text/plain": [
              "<Figure size 1500x200 with 1 Axes>"
            ],
            "image/png": "[encoded data removed]"
          },
          "metadata": {}
        }
      ]
    },
    {
      "cell_type": "code",
      "source": [
        "x_train =  x_train/255\n",
        "x_test = x_test/255"
      ],
      "metadata": {
        "id": "SFB5W2lIMbtI"
      },
      "execution_count": 8,
      "outputs": []
    },
    {
      "cell_type": "code",
      "source": [
        "ann = keras.Sequential([\n",
        "    keras.layers.Flatten(input_shape=(32,32,3)),\n",
        "    keras.layers.Dense(3000,activation='relu'),\n",
        "    keras.layers.Dense(1000,activation='relu'),\n",
        "    keras.layers.Dense(10,activation='sigmoid')\n",
        "])\n",
        "\n",
        "ann.compile(optimizer='SGD',\n",
        "            loss='sparse_categorical_crossentropy',\n",
        "            metrics=['accuracy'])\n",
        "\n",
        "ann.fit(x_train,y_train,epochs=10)"
      ],
      "metadata": {
        "colab": {
          "base_uri": "https://localhost:8080/"
        },
        "id": "ScTghP1NNBkB",
        "outputId": "dbf87428-bb6e-4efd-bc93-6cb218527fde"
      },
      "execution_count": 9,
      "outputs": [
        {
          "output_type": "stream",
          "name": "stdout",
          "text": [
            "Epoch 1/10\n",
            "1563/1563 [==============================] - 30s 19ms/step - loss: 1.8139 - accuracy: 0.3541\n",
            "Epoch 2/10\n",
            "1563/1563 [==============================] - 28s 18ms/step - loss: 1.6244 - accuracy: 0.4264\n",
            "Epoch 3/10\n",
            "1563/1563 [==============================] - 26s 17ms/step - loss: 1.5411 - accuracy: 0.4552\n",
            "Epoch 4/10\n",
            "1563/1563 [==============================] - 26s 16ms/step - loss: 1.4801 - accuracy: 0.4788\n",
            "Epoch 5/10\n",
            "1563/1563 [==============================] - 26s 17ms/step - loss: 1.4319 - accuracy: 0.4968\n",
            "Epoch 6/10\n",
            "1563/1563 [==============================] - 27s 17ms/step - loss: 1.3880 - accuracy: 0.5127\n",
            "Epoch 7/10\n",
            "1563/1563 [==============================] - 27s 17ms/step - loss: 1.3501 - accuracy: 0.5265\n",
            "Epoch 8/10\n",
            "1563/1563 [==============================] - 27s 17ms/step - loss: 1.3137 - accuracy: 0.5403\n",
            "Epoch 9/10\n",
            "1563/1563 [==============================] - 26s 17ms/step - loss: 1.2817 - accuracy: 0.5498\n",
            "Epoch 10/10\n",
            "1563/1563 [==============================] - 27s 17ms/step - loss: 1.2482 - accuracy: 0.5620\n"
          ]
        },
        {
          "output_type": "execute_result",
          "data": {
            "text/plain": [
              "<keras.src.callbacks.History at 0x7dd73ea6cc10>"
            ]
          },
          "metadata": {},
          "execution_count": 9
        }
      ]
    },
    {
      "cell_type": "code",
      "source": [
        "ann.evaluate(x_test,y_test)"
      ],
      "metadata": {
        "colab": {
          "base_uri": "https://localhost:8080/"
        },
        "id": "xVsMYNfrPVoF",
        "outputId": "56c0a408-f414-4ef4-b924-d3daec221c3d"
      },
      "execution_count": 16,
      "outputs": [
        {
          "output_type": "stream",
          "name": "stdout",
          "text": [
            "313/313 [==============================] - 2s 6ms/step - loss: 1.5293 - accuracy: 0.4683\n"
          ]
        },
        {
          "output_type": "execute_result",
          "data": {
            "text/plain": [
              "[1.5293484926223755, 0.4683000147342682]"
            ]
          },
          "metadata": {},
          "execution_count": 16
        }
      ]
    },
    {
      "cell_type": "code",
      "source": [
        "cnn = keras.Sequential([\n",
        "\n",
        "    layers.Conv2D(filters=32,kernel_size=(3,3),activation='relu',input_shape=(32,32,3)),\n",
        "    layers.MaxPooling2D((2,2)),\n",
        "\n",
        "    layers.Conv2D(filters=64,kernel_size=(3,3),activation='relu'),\n",
        "    layers.MaxPooling2D((2,2)),\n",
        "    layers.Flatten(),\n",
        "    layers.Dense(64,activation='relu'),\n",
        "    layers.Dense(10,activation='softmax')\n",
        "])\n",
        "cnn.compile(optimizer='adam',\n",
        "            loss='sparse_categorical_crossentropy',\n",
        "            metrics=['accuracy'])\n",
        "cnn.fit(x_train,y_train,epochs=10)"
      ],
      "metadata": {
        "colab": {
          "base_uri": "https://localhost:8080/"
        },
        "id": "sFoDTPBXPVrZ",
        "outputId": "1ac03244-1340-4d66-ed04-13a8383240fd"
      },
      "execution_count": 14,
      "outputs": [
        {
          "output_type": "stream",
          "name": "stdout",
          "text": [
            "Epoch 1/10\n",
            "1563/1563 [==============================] - 10s 6ms/step - loss: 1.4530 - accuracy: 0.4796\n",
            "Epoch 2/10\n",
            "1563/1563 [==============================] - 10s 6ms/step - loss: 1.1061 - accuracy: 0.6150\n",
            "Epoch 3/10\n",
            "1563/1563 [==============================] - 10s 6ms/step - loss: 0.9693 - accuracy: 0.6620\n",
            "Epoch 4/10\n",
            "1563/1563 [==============================] - 10s 6ms/step - loss: 0.8912 - accuracy: 0.6895\n",
            "Epoch 5/10\n",
            "1563/1563 [==============================] - 10s 6ms/step - loss: 0.8262 - accuracy: 0.7126\n",
            "Epoch 6/10\n",
            "1563/1563 [==============================] - 10s 6ms/step - loss: 0.7726 - accuracy: 0.7308\n",
            "Epoch 7/10\n",
            "1563/1563 [==============================] - 9s 6ms/step - loss: 0.7213 - accuracy: 0.7505\n",
            "Epoch 8/10\n",
            "1563/1563 [==============================] - 9s 6ms/step - loss: 0.6817 - accuracy: 0.7624\n",
            "Epoch 9/10\n",
            "1563/1563 [==============================] - 10s 6ms/step - loss: 0.6434 - accuracy: 0.7753\n",
            "Epoch 10/10\n",
            "1563/1563 [==============================] - 10s 6ms/step - loss: 0.6076 - accuracy: 0.7856\n"
          ]
        },
        {
          "output_type": "execute_result",
          "data": {
            "text/plain": [
              "<keras.src.callbacks.History at 0x7dd73d625180>"
            ]
          },
          "metadata": {},
          "execution_count": 14
        }
      ]
    },
    {
      "cell_type": "code",
      "source": [
        "cnn.evaluate(x_test,y_test)"
      ],
      "metadata": {
        "colab": {
          "base_uri": "https://localhost:8080/"
        },
        "id": "TgbOF7z0RtMc",
        "outputId": "f04cd977-3e75-4f0f-fcad-35a5f6ee1c5b"
      },
      "execution_count": 15,
      "outputs": [
        {
          "output_type": "stream",
          "name": "stdout",
          "text": [
            "313/313 [==============================] - 1s 3ms/step - loss: 0.9720 - accuracy: 0.6832\n"
          ]
        },
        {
          "output_type": "execute_result",
          "data": {
            "text/plain": [
              "[0.9720172882080078, 0.6832000017166138]"
            ]
          },
          "metadata": {},
          "execution_count": 15
        }
      ]
    },
    {
      "cell_type": "code",
      "source": [
        "y_pred = cnn.predict(x_test)\n",
        "y_pred[:5]"
      ],
      "metadata": {
        "colab": {
          "base_uri": "https://localhost:8080/"
        },
        "id": "TnVZcz6ySEeK",
        "outputId": "b8c776f0-d77c-4c2d-ddbd-48a03b7febfb"
      },
      "execution_count": 17,
      "outputs": [
        {
          "output_type": "stream",
          "name": "stdout",
          "text": [
            "313/313 [==============================] - 1s 3ms/step\n"
          ]
        },
        {
          "output_type": "execute_result",
          "data": {
            "text/plain": [
              "array([[4.36750037e-04, 3.05938156e-05, 2.24065036e-04, 5.57976127e-01,\n",
              "        1.05376532e-02, 4.23097163e-01, 6.84818206e-03, 1.71465668e-04,\n",
              "        6.54514646e-04, 2.34576728e-05],\n",
              "       [8.29146523e-03, 1.30406236e-02, 1.43688585e-05, 5.57695046e-07,\n",
              "        9.96999802e-07, 2.21032849e-07, 1.17364929e-09, 2.31523828e-07,\n",
              "        9.78093982e-01, 5.57399937e-04],\n",
              "       [6.34246990e-02, 1.87551394e-01, 5.62612480e-03, 5.51153682e-02,\n",
              "        4.88579972e-03, 5.53985639e-03, 6.91594672e-04, 4.80148895e-03,\n",
              "        3.67945135e-01, 3.04418504e-01],\n",
              "       [7.93300509e-01, 1.34377135e-03, 8.02621432e-03, 1.10594602e-03,\n",
              "        2.47890316e-03, 4.25744693e-05, 2.91690626e-03, 2.93625897e-04,\n",
              "        1.89782098e-01, 7.09428394e-04],\n",
              "       [2.12338909e-06, 3.67909388e-06, 9.73717310e-03, 3.84668671e-02,\n",
              "        1.03689812e-01, 1.06730815e-02, 8.37346017e-01, 1.07869516e-06,\n",
              "        7.50098334e-05, 5.11424787e-06]], dtype=float32)"
            ]
          },
          "metadata": {},
          "execution_count": 17
        }
      ]
    },
    {
      "cell_type": "code",
      "source": [
        "y_test[:5]"
      ],
      "metadata": {
        "colab": {
          "base_uri": "https://localhost:8080/"
        },
        "id": "NK5DQhxnSfhT",
        "outputId": "e863f3d9-d05f-488b-ce8e-c049e87a27c4"
      },
      "execution_count": 19,
      "outputs": [
        {
          "output_type": "execute_result",
          "data": {
            "text/plain": [
              "array([3, 8, 8, 0, 6], dtype=uint8)"
            ]
          },
          "metadata": {},
          "execution_count": 19
        }
      ]
    },
    {
      "cell_type": "code",
      "source": [
        "y_classes = [np.argmax(element) for element in y_pred]\n",
        "y_classes[:5]"
      ],
      "metadata": {
        "colab": {
          "base_uri": "https://localhost:8080/"
        },
        "id": "uQ4JxbxASTEV",
        "outputId": "174398aa-62a7-488c-ce7e-5ecced4ead28"
      },
      "execution_count": 18,
      "outputs": [
        {
          "output_type": "execute_result",
          "data": {
            "text/plain": [
              "[3, 8, 8, 0, 6]"
            ]
          },
          "metadata": {},
          "execution_count": 18
        }
      ]
    },
    {
      "cell_type": "code",
      "source": [
        "from sklearn.metrics import confusion_matrix,classification_report\n",
        "print('Classification Report: \\n',classification_report(y_test,y_classes))"
      ],
      "metadata": {
        "colab": {
          "base_uri": "https://localhost:8080/"
        },
        "id": "BeQM6XgUSsKT",
        "outputId": "24e3bad9-7484-474d-a0f0-5dbceb2de0c2"
      },
      "execution_count": 20,
      "outputs": [
        {
          "output_type": "stream",
          "name": "stdout",
          "text": [
            "Classification Report: \n",
            "               precision    recall  f1-score   support\n",
            "\n",
            "           0       0.75      0.71      0.73      1000\n",
            "           1       0.94      0.63      0.76      1000\n",
            "           2       0.64      0.47      0.55      1000\n",
            "           3       0.59      0.39      0.47      1000\n",
            "           4       0.53      0.79      0.64      1000\n",
            "           5       0.57      0.63      0.60      1000\n",
            "           6       0.70      0.80      0.75      1000\n",
            "           7       0.78      0.70      0.74      1000\n",
            "           8       0.81      0.82      0.82      1000\n",
            "           9       0.66      0.87      0.75      1000\n",
            "\n",
            "    accuracy                           0.68     10000\n",
            "   macro avg       0.70      0.68      0.68     10000\n",
            "weighted avg       0.70      0.68      0.68     10000\n",
            "\n"
          ]
        }
      ]
    }
  ]
}