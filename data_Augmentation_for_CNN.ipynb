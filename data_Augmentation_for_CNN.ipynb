{
  "nbformat": 4,
  "nbformat_minor": 0,
  "metadata": {
    "colab": {
      "provenance": [],
      "authorship_tag": "ABX9TyPqs68Jq0kfgqEBeVsnEr0r",
      "include_colab_link": true
    },
    "kernelspec": {
      "name": "python3",
      "display_name": "Python 3"
    },
    "language_info": {
      "name": "python"
    }
  },
  "cells": [
    {
      "cell_type": "markdown",
      "metadata": {
        "id": "view-in-github",
        "colab_type": "text"
      },
      "source": [
        "<a href=\"https://colab.research.google.com/github/subham129/Deep-learning/blob/main/data_Augmentation_for_CNN.ipynb\" target=\"_parent\"><img src=\"https://colab.research.google.com/assets/colab-badge.svg\" alt=\"Open In Colab\"/></a>"
      ]
    },
    {
      "cell_type": "code",
      "source": [
        "from tensorflow.keras.preprocessing.image import ImageDataGenerator, array_to_img, img_to_array, load_img"
      ],
      "metadata": {
        "id": "jme8Nj8-gr-d"
      },
      "execution_count": 5,
      "outputs": []
    },
    {
      "cell_type": "code",
      "source": [
        "datagen = ImageDataGenerator(\n",
        "    rotation_range=40,\n",
        "    width_shift_range=0.2,\n",
        "    height_shift_range=0.2,\n",
        "    shear_range=0.2,\n",
        "    zoom_range=0.2,\n",
        "    horizontal_flip=True,\n",
        "    fill_mode='nearest'\n",
        ")\n",
        "\n",
        "img = load_img('goldfish.jpg')\n",
        "x = img_to_array(img)\n",
        "x = x.reshape((1,) +x.shape)\n",
        "\n",
        "\n",
        "i = 0\n",
        "for batch in datagen.flow(x, batch_size=1, save_to_dir='preview',save_prefix='goldfish', save_format='jpeg'):\n",
        "    i += 1\n",
        "    if i > 20:\n",
        "        break"
      ],
      "metadata": {
        "id": "cbccdr5MgY7D"
      },
      "execution_count": 4,
      "outputs": []
    }
  ]
}