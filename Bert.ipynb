{
  "nbformat": 4,
  "nbformat_minor": 0,
  "metadata": {
    "colab": {
      "provenance": [],
      "gpuType": "T4",
      "authorship_tag": "ABX9TyOALIHb4rQRChBaYjxujZkl",
      "include_colab_link": true
    },
    "kernelspec": {
      "name": "python3",
      "display_name": "Python 3"
    },
    "language_info": {
      "name": "python"
    },
    "accelerator": "GPU"
  },
  "cells": [
    {
      "cell_type": "markdown",
      "metadata": {
        "id": "view-in-github",
        "colab_type": "text"
      },
      "source": [
        "<a href=\"https://colab.research.google.com/github/subham129/Deep-learning/blob/main/Bert.ipynb\" target=\"_parent\"><img src=\"https://colab.research.google.com/assets/colab-badge.svg\" alt=\"Open In Colab\"/></a>"
      ]
    },
    {
      "cell_type": "code",
      "source": [
        "!pip install tensorflow-text"
      ],
      "metadata": {
        "colab": {
          "base_uri": "https://localhost:8080/"
        },
        "id": "cf_N58zc5xgx",
        "outputId": "252675fc-12f8-4e98-c10a-4ff4ee9f2eb1"
      },
      "execution_count": 2,
      "outputs": [
        {
          "output_type": "stream",
          "name": "stdout",
          "text": [
            "Collecting tensorflow-text\n",
            "  Downloading tensorflow_text-2.17.0-cp310-cp310-manylinux_2_17_x86_64.manylinux2014_x86_64.whl.metadata (1.8 kB)\n",
            "Requirement already satisfied: tensorflow<2.18,>=2.17.0 in /usr/local/lib/python3.10/dist-packages (from tensorflow-text) (2.17.0)\n",
            "Requirement already satisfied: absl-py>=1.0.0 in /usr/local/lib/python3.10/dist-packages (from tensorflow<2.18,>=2.17.0->tensorflow-text) (1.4.0)\n",
            "Requirement already satisfied: astunparse>=1.6.0 in /usr/local/lib/python3.10/dist-packages (from tensorflow<2.18,>=2.17.0->tensorflow-text) (1.6.3)\n",
            "Requirement already satisfied: flatbuffers>=24.3.25 in /usr/local/lib/python3.10/dist-packages (from tensorflow<2.18,>=2.17.0->tensorflow-text) (24.3.25)\n",
            "Requirement already satisfied: gast!=0.5.0,!=0.5.1,!=0.5.2,>=0.2.1 in /usr/local/lib/python3.10/dist-packages (from tensorflow<2.18,>=2.17.0->tensorflow-text) (0.6.0)\n",
            "Requirement already satisfied: google-pasta>=0.1.1 in /usr/local/lib/python3.10/dist-packages (from tensorflow<2.18,>=2.17.0->tensorflow-text) (0.2.0)\n",
            "Requirement already satisfied: h5py>=3.10.0 in /usr/local/lib/python3.10/dist-packages (from tensorflow<2.18,>=2.17.0->tensorflow-text) (3.11.0)\n",
            "Requirement already satisfied: libclang>=13.0.0 in /usr/local/lib/python3.10/dist-packages (from tensorflow<2.18,>=2.17.0->tensorflow-text) (18.1.1)\n",
            "Requirement already satisfied: ml-dtypes<0.5.0,>=0.3.1 in /usr/local/lib/python3.10/dist-packages (from tensorflow<2.18,>=2.17.0->tensorflow-text) (0.4.1)\n",
            "Requirement already satisfied: opt-einsum>=2.3.2 in /usr/local/lib/python3.10/dist-packages (from tensorflow<2.18,>=2.17.0->tensorflow-text) (3.3.0)\n",
            "Requirement already satisfied: packaging in /usr/local/lib/python3.10/dist-packages (from tensorflow<2.18,>=2.17.0->tensorflow-text) (24.1)\n",
            "Requirement already satisfied: protobuf!=4.21.0,!=4.21.1,!=4.21.2,!=4.21.3,!=4.21.4,!=4.21.5,<5.0.0dev,>=3.20.3 in /usr/local/lib/python3.10/dist-packages (from tensorflow<2.18,>=2.17.0->tensorflow-text) (3.20.3)\n",
            "Requirement already satisfied: requests<3,>=2.21.0 in /usr/local/lib/python3.10/dist-packages (from tensorflow<2.18,>=2.17.0->tensorflow-text) (2.32.3)\n",
            "Requirement already satisfied: setuptools in /usr/local/lib/python3.10/dist-packages (from tensorflow<2.18,>=2.17.0->tensorflow-text) (71.0.4)\n",
            "Requirement already satisfied: six>=1.12.0 in /usr/local/lib/python3.10/dist-packages (from tensorflow<2.18,>=2.17.0->tensorflow-text) (1.16.0)\n",
            "Requirement already satisfied: termcolor>=1.1.0 in /usr/local/lib/python3.10/dist-packages (from tensorflow<2.18,>=2.17.0->tensorflow-text) (2.4.0)\n",
            "Requirement already satisfied: typing-extensions>=3.6.6 in /usr/local/lib/python3.10/dist-packages (from tensorflow<2.18,>=2.17.0->tensorflow-text) (4.12.2)\n",
            "Requirement already satisfied: wrapt>=1.11.0 in /usr/local/lib/python3.10/dist-packages (from tensorflow<2.18,>=2.17.0->tensorflow-text) (1.16.0)\n",
            "Requirement already satisfied: grpcio<2.0,>=1.24.3 in /usr/local/lib/python3.10/dist-packages (from tensorflow<2.18,>=2.17.0->tensorflow-text) (1.64.1)\n",
            "Requirement already satisfied: tensorboard<2.18,>=2.17 in /usr/local/lib/python3.10/dist-packages (from tensorflow<2.18,>=2.17.0->tensorflow-text) (2.17.0)\n",
            "Requirement already satisfied: keras>=3.2.0 in /usr/local/lib/python3.10/dist-packages (from tensorflow<2.18,>=2.17.0->tensorflow-text) (3.4.1)\n",
            "Requirement already satisfied: tensorflow-io-gcs-filesystem>=0.23.1 in /usr/local/lib/python3.10/dist-packages (from tensorflow<2.18,>=2.17.0->tensorflow-text) (0.37.1)\n",
            "Requirement already satisfied: numpy<2.0.0,>=1.23.5 in /usr/local/lib/python3.10/dist-packages (from tensorflow<2.18,>=2.17.0->tensorflow-text) (1.26.4)\n",
            "Requirement already satisfied: wheel<1.0,>=0.23.0 in /usr/local/lib/python3.10/dist-packages (from astunparse>=1.6.0->tensorflow<2.18,>=2.17.0->tensorflow-text) (0.44.0)\n",
            "Requirement already satisfied: rich in /usr/local/lib/python3.10/dist-packages (from keras>=3.2.0->tensorflow<2.18,>=2.17.0->tensorflow-text) (13.8.1)\n",
            "Requirement already satisfied: namex in /usr/local/lib/python3.10/dist-packages (from keras>=3.2.0->tensorflow<2.18,>=2.17.0->tensorflow-text) (0.0.8)\n",
            "Requirement already satisfied: optree in /usr/local/lib/python3.10/dist-packages (from keras>=3.2.0->tensorflow<2.18,>=2.17.0->tensorflow-text) (0.12.1)\n",
            "Requirement already satisfied: charset-normalizer<4,>=2 in /usr/local/lib/python3.10/dist-packages (from requests<3,>=2.21.0->tensorflow<2.18,>=2.17.0->tensorflow-text) (3.3.2)\n",
            "Requirement already satisfied: idna<4,>=2.5 in /usr/local/lib/python3.10/dist-packages (from requests<3,>=2.21.0->tensorflow<2.18,>=2.17.0->tensorflow-text) (3.10)\n",
            "Requirement already satisfied: urllib3<3,>=1.21.1 in /usr/local/lib/python3.10/dist-packages (from requests<3,>=2.21.0->tensorflow<2.18,>=2.17.0->tensorflow-text) (2.0.7)\n",
            "Requirement already satisfied: certifi>=2017.4.17 in /usr/local/lib/python3.10/dist-packages (from requests<3,>=2.21.0->tensorflow<2.18,>=2.17.0->tensorflow-text) (2024.8.30)\n",
            "Requirement already satisfied: markdown>=2.6.8 in /usr/local/lib/python3.10/dist-packages (from tensorboard<2.18,>=2.17->tensorflow<2.18,>=2.17.0->tensorflow-text) (3.7)\n",
            "Requirement already satisfied: tensorboard-data-server<0.8.0,>=0.7.0 in /usr/local/lib/python3.10/dist-packages (from tensorboard<2.18,>=2.17->tensorflow<2.18,>=2.17.0->tensorflow-text) (0.7.2)\n",
            "Requirement already satisfied: werkzeug>=1.0.1 in /usr/local/lib/python3.10/dist-packages (from tensorboard<2.18,>=2.17->tensorflow<2.18,>=2.17.0->tensorflow-text) (3.0.4)\n",
            "Requirement already satisfied: MarkupSafe>=2.1.1 in /usr/local/lib/python3.10/dist-packages (from werkzeug>=1.0.1->tensorboard<2.18,>=2.17->tensorflow<2.18,>=2.17.0->tensorflow-text) (2.1.5)\n",
            "Requirement already satisfied: markdown-it-py>=2.2.0 in /usr/local/lib/python3.10/dist-packages (from rich->keras>=3.2.0->tensorflow<2.18,>=2.17.0->tensorflow-text) (3.0.0)\n",
            "Requirement already satisfied: pygments<3.0.0,>=2.13.0 in /usr/local/lib/python3.10/dist-packages (from rich->keras>=3.2.0->tensorflow<2.18,>=2.17.0->tensorflow-text) (2.18.0)\n",
            "Requirement already satisfied: mdurl~=0.1 in /usr/local/lib/python3.10/dist-packages (from markdown-it-py>=2.2.0->rich->keras>=3.2.0->tensorflow<2.18,>=2.17.0->tensorflow-text) (0.1.2)\n",
            "Downloading tensorflow_text-2.17.0-cp310-cp310-manylinux_2_17_x86_64.manylinux2014_x86_64.whl (5.2 MB)\n",
            "\u001b[2K   \u001b[90m━━━━━━━━━━━━━━━━━━━━━━━━━━━━━━━━━━━━━━━━\u001b[0m \u001b[32m5.2/5.2 MB\u001b[0m \u001b[31m30.2 MB/s\u001b[0m eta \u001b[36m0:00:00\u001b[0m\n",
            "\u001b[?25hInstalling collected packages: tensorflow-text\n",
            "Successfully installed tensorflow-text-2.17.0\n"
          ]
        }
      ]
    },
    {
      "cell_type": "code",
      "execution_count": 3,
      "metadata": {
        "id": "vZMlf0P95SxZ"
      },
      "outputs": [],
      "source": [
        "import tensorflow_hub as hub\n",
        "import tensorflow_text as text"
      ]
    },
    {
      "cell_type": "code",
      "source": [
        "preprocess_url = \"https://tfhub.dev/tensorflow/bert_en_uncased_preprocess/3\"\n",
        "encoder_url = \"https://tfhub.dev/tensorflow/bert_en_uncased_L-12_H-768_A-12/4\""
      ],
      "metadata": {
        "id": "Sr5UhAwl5kEh"
      },
      "execution_count": 4,
      "outputs": []
    },
    {
      "cell_type": "code",
      "source": [
        "bert_preprocess_model = hub.KerasLayer(preprocess_url)"
      ],
      "metadata": {
        "id": "enMGyK9x5nko"
      },
      "execution_count": 5,
      "outputs": []
    },
    {
      "cell_type": "code",
      "source": [
        "text_test = ['nice movie indeed','I love python programming']\n",
        "text_preprocessed = bert_preprocess_model(text_test)\n",
        "text_preprocessed.keys()"
      ],
      "metadata": {
        "colab": {
          "base_uri": "https://localhost:8080/"
        },
        "id": "yjvnvuI15o1A",
        "outputId": "3da7983c-cdb8-4268-bbf0-e402dce6b442"
      },
      "execution_count": 6,
      "outputs": [
        {
          "output_type": "execute_result",
          "data": {
            "text/plain": [
              "dict_keys(['input_type_ids', 'input_word_ids', 'input_mask'])"
            ]
          },
          "metadata": {},
          "execution_count": 6
        }
      ]
    },
    {
      "cell_type": "code",
      "source": [
        "text_preprocessed['input_mask']"
      ],
      "metadata": {
        "colab": {
          "base_uri": "https://localhost:8080/"
        },
        "id": "_dC_1fsJ5qkB",
        "outputId": "c18d9feb-f6c6-4255-eb22-195a16344e67"
      },
      "execution_count": 7,
      "outputs": [
        {
          "output_type": "execute_result",
          "data": {
            "text/plain": [
              "<tf.Tensor: shape=(2, 128), dtype=int32, numpy=\n",
              "array([[1, 1, 1, 1, 1, 0, 0, 0, 0, 0, 0, 0, 0, 0, 0, 0, 0, 0, 0, 0, 0, 0,\n",
              "        0, 0, 0, 0, 0, 0, 0, 0, 0, 0, 0, 0, 0, 0, 0, 0, 0, 0, 0, 0, 0, 0,\n",
              "        0, 0, 0, 0, 0, 0, 0, 0, 0, 0, 0, 0, 0, 0, 0, 0, 0, 0, 0, 0, 0, 0,\n",
              "        0, 0, 0, 0, 0, 0, 0, 0, 0, 0, 0, 0, 0, 0, 0, 0, 0, 0, 0, 0, 0, 0,\n",
              "        0, 0, 0, 0, 0, 0, 0, 0, 0, 0, 0, 0, 0, 0, 0, 0, 0, 0, 0, 0, 0, 0,\n",
              "        0, 0, 0, 0, 0, 0, 0, 0, 0, 0, 0, 0, 0, 0, 0, 0, 0, 0],\n",
              "       [1, 1, 1, 1, 1, 1, 0, 0, 0, 0, 0, 0, 0, 0, 0, 0, 0, 0, 0, 0, 0, 0,\n",
              "        0, 0, 0, 0, 0, 0, 0, 0, 0, 0, 0, 0, 0, 0, 0, 0, 0, 0, 0, 0, 0, 0,\n",
              "        0, 0, 0, 0, 0, 0, 0, 0, 0, 0, 0, 0, 0, 0, 0, 0, 0, 0, 0, 0, 0, 0,\n",
              "        0, 0, 0, 0, 0, 0, 0, 0, 0, 0, 0, 0, 0, 0, 0, 0, 0, 0, 0, 0, 0, 0,\n",
              "        0, 0, 0, 0, 0, 0, 0, 0, 0, 0, 0, 0, 0, 0, 0, 0, 0, 0, 0, 0, 0, 0,\n",
              "        0, 0, 0, 0, 0, 0, 0, 0, 0, 0, 0, 0, 0, 0, 0, 0, 0, 0]],\n",
              "      dtype=int32)>"
            ]
          },
          "metadata": {},
          "execution_count": 7
        }
      ]
    },
    {
      "cell_type": "code",
      "source": [
        "text_preprocessed['input_type_ids']"
      ],
      "metadata": {
        "colab": {
          "base_uri": "https://localhost:8080/"
        },
        "id": "lJFqkI2z58A5",
        "outputId": "c397687e-0cb3-419c-d9d0-e2a1e54dc017"
      },
      "execution_count": 8,
      "outputs": [
        {
          "output_type": "execute_result",
          "data": {
            "text/plain": [
              "<tf.Tensor: shape=(2, 128), dtype=int32, numpy=\n",
              "array([[0, 0, 0, 0, 0, 0, 0, 0, 0, 0, 0, 0, 0, 0, 0, 0, 0, 0, 0, 0, 0, 0,\n",
              "        0, 0, 0, 0, 0, 0, 0, 0, 0, 0, 0, 0, 0, 0, 0, 0, 0, 0, 0, 0, 0, 0,\n",
              "        0, 0, 0, 0, 0, 0, 0, 0, 0, 0, 0, 0, 0, 0, 0, 0, 0, 0, 0, 0, 0, 0,\n",
              "        0, 0, 0, 0, 0, 0, 0, 0, 0, 0, 0, 0, 0, 0, 0, 0, 0, 0, 0, 0, 0, 0,\n",
              "        0, 0, 0, 0, 0, 0, 0, 0, 0, 0, 0, 0, 0, 0, 0, 0, 0, 0, 0, 0, 0, 0,\n",
              "        0, 0, 0, 0, 0, 0, 0, 0, 0, 0, 0, 0, 0, 0, 0, 0, 0, 0],\n",
              "       [0, 0, 0, 0, 0, 0, 0, 0, 0, 0, 0, 0, 0, 0, 0, 0, 0, 0, 0, 0, 0, 0,\n",
              "        0, 0, 0, 0, 0, 0, 0, 0, 0, 0, 0, 0, 0, 0, 0, 0, 0, 0, 0, 0, 0, 0,\n",
              "        0, 0, 0, 0, 0, 0, 0, 0, 0, 0, 0, 0, 0, 0, 0, 0, 0, 0, 0, 0, 0, 0,\n",
              "        0, 0, 0, 0, 0, 0, 0, 0, 0, 0, 0, 0, 0, 0, 0, 0, 0, 0, 0, 0, 0, 0,\n",
              "        0, 0, 0, 0, 0, 0, 0, 0, 0, 0, 0, 0, 0, 0, 0, 0, 0, 0, 0, 0, 0, 0,\n",
              "        0, 0, 0, 0, 0, 0, 0, 0, 0, 0, 0, 0, 0, 0, 0, 0, 0, 0]],\n",
              "      dtype=int32)>"
            ]
          },
          "metadata": {},
          "execution_count": 8
        }
      ]
    },
    {
      "cell_type": "code",
      "source": [
        "text_preprocessed['input_word_ids']"
      ],
      "metadata": {
        "colab": {
          "base_uri": "https://localhost:8080/"
        },
        "id": "YCx6Bqug6MQ4",
        "outputId": "891285f3-92d9-4b7e-9a60-09f66c595cf9"
      },
      "execution_count": 9,
      "outputs": [
        {
          "output_type": "execute_result",
          "data": {
            "text/plain": [
              "<tf.Tensor: shape=(2, 128), dtype=int32, numpy=\n",
              "array([[  101,  3835,  3185,  5262,   102,     0,     0,     0,     0,\n",
              "            0,     0,     0,     0,     0,     0,     0,     0,     0,\n",
              "            0,     0,     0,     0,     0,     0,     0,     0,     0,\n",
              "            0,     0,     0,     0,     0,     0,     0,     0,     0,\n",
              "            0,     0,     0,     0,     0,     0,     0,     0,     0,\n",
              "            0,     0,     0,     0,     0,     0,     0,     0,     0,\n",
              "            0,     0,     0,     0,     0,     0,     0,     0,     0,\n",
              "            0,     0,     0,     0,     0,     0,     0,     0,     0,\n",
              "            0,     0,     0,     0,     0,     0,     0,     0,     0,\n",
              "            0,     0,     0,     0,     0,     0,     0,     0,     0,\n",
              "            0,     0,     0,     0,     0,     0,     0,     0,     0,\n",
              "            0,     0,     0,     0,     0,     0,     0,     0,     0,\n",
              "            0,     0,     0,     0,     0,     0,     0,     0,     0,\n",
              "            0,     0,     0,     0,     0,     0,     0,     0,     0,\n",
              "            0,     0],\n",
              "       [  101,  1045,  2293, 18750,  4730,   102,     0,     0,     0,\n",
              "            0,     0,     0,     0,     0,     0,     0,     0,     0,\n",
              "            0,     0,     0,     0,     0,     0,     0,     0,     0,\n",
              "            0,     0,     0,     0,     0,     0,     0,     0,     0,\n",
              "            0,     0,     0,     0,     0,     0,     0,     0,     0,\n",
              "            0,     0,     0,     0,     0,     0,     0,     0,     0,\n",
              "            0,     0,     0,     0,     0,     0,     0,     0,     0,\n",
              "            0,     0,     0,     0,     0,     0,     0,     0,     0,\n",
              "            0,     0,     0,     0,     0,     0,     0,     0,     0,\n",
              "            0,     0,     0,     0,     0,     0,     0,     0,     0,\n",
              "            0,     0,     0,     0,     0,     0,     0,     0,     0,\n",
              "            0,     0,     0,     0,     0,     0,     0,     0,     0,\n",
              "            0,     0,     0,     0,     0,     0,     0,     0,     0,\n",
              "            0,     0,     0,     0,     0,     0,     0,     0,     0,\n",
              "            0,     0]], dtype=int32)>"
            ]
          },
          "metadata": {},
          "execution_count": 9
        }
      ]
    },
    {
      "cell_type": "code",
      "source": [
        "bert_model =  hub.KerasLayer(encoder_url)"
      ],
      "metadata": {
        "id": "exRPPJLY6RzA"
      },
      "execution_count": 11,
      "outputs": []
    },
    {
      "cell_type": "code",
      "source": [
        "bert_results = bert_model(text_preprocessed)"
      ],
      "metadata": {
        "id": "eoefVGrv6ggI"
      },
      "execution_count": 12,
      "outputs": []
    },
    {
      "cell_type": "code",
      "source": [
        "bert_results.keys()"
      ],
      "metadata": {
        "colab": {
          "base_uri": "https://localhost:8080/"
        },
        "id": "tTt4O2Td6ueh",
        "outputId": "c718186d-d532-48ba-e68b-2da66d04853c"
      },
      "execution_count": 15,
      "outputs": [
        {
          "output_type": "execute_result",
          "data": {
            "text/plain": [
              "dict_keys(['default', 'pooled_output', 'encoder_outputs', 'sequence_output'])"
            ]
          },
          "metadata": {},
          "execution_count": 15
        }
      ]
    },
    {
      "cell_type": "code",
      "source": [
        "bert_results['pooled_output']"
      ],
      "metadata": {
        "colab": {
          "base_uri": "https://localhost:8080/"
        },
        "id": "bbClfpoT66Q6",
        "outputId": "c250644a-4aaa-4c3f-d533-11f2ae920005"
      },
      "execution_count": 17,
      "outputs": [
        {
          "output_type": "execute_result",
          "data": {
            "text/plain": [
              "<tf.Tensor: shape=(2, 768), dtype=float32, numpy=\n",
              "array([[-0.79177403, -0.21411912,  0.49769545, ...,  0.24465235,\n",
              "        -0.47334474,  0.81758696],\n",
              "       [-0.91712314, -0.47935176, -0.7865697 , ..., -0.6175175 ,\n",
              "        -0.71026856,  0.921843  ]], dtype=float32)>"
            ]
          },
          "metadata": {},
          "execution_count": 17
        }
      ]
    },
    {
      "cell_type": "code",
      "source": [
        "bert_results['encoder_outputs']"
      ],
      "metadata": {
        "colab": {
          "base_uri": "https://localhost:8080/"
        },
        "id": "gpNc71mh7Asb",
        "outputId": "b30fe667-ec99-49a7-f6dd-cd9ceaa70b99"
      },
      "execution_count": 18,
      "outputs": [
        {
          "output_type": "execute_result",
          "data": {
            "text/plain": [
              "[<tf.Tensor: shape=(2, 128, 768), dtype=float32, numpy=\n",
              " array([[[ 0.1290144 ,  0.00644745, -0.03614967, ...,  0.04999624,\n",
              "           0.06149195, -0.02657542],\n",
              "         [ 1.1753386 ,  1.2140785 ,  1.1569982 , ...,  0.11634357,\n",
              "          -0.3585537 , -0.40490186],\n",
              "         [ 0.03859041,  0.5386997 , -0.2108978 , ...,  0.21858197,\n",
              "           0.7260168 , -1.1158606 ],\n",
              "         ...,\n",
              "         [-0.07587015, -0.25421894,  0.7075512 , ...,  0.50541997,\n",
              "          -0.1887868 ,  0.15028352],\n",
              "         [-0.16066599, -0.28089687,  0.5759707 , ...,  0.5275855 ,\n",
              "          -0.11141382,  0.02887543],\n",
              "         [-0.04428157, -0.20279568,  0.59093547, ...,  0.8133835 ,\n",
              "          -0.39075816, -0.02601742]],\n",
              " \n",
              "        [[ 0.18903585,  0.02752551, -0.06513745, ..., -0.00620203,\n",
              "           0.15053892,  0.0316545 ],\n",
              "         [ 0.5916147 ,  0.7589138 , -0.07240658, ...,  0.61903954,\n",
              "           0.8292891 ,  0.16161972],\n",
              "         [ 1.4460826 ,  0.44602674,  0.40990272, ...,  0.48255897,\n",
              "           0.6269117 ,  0.1346341 ],\n",
              "         ...,\n",
              "         [ 0.15147905, -0.21573839,  0.70329064, ..., -0.12537238,\n",
              "          -0.13787256,  0.27722067],\n",
              "         [ 0.051438  , -0.24052702,  0.5356912 , ..., -0.0791503 ,\n",
              "          -0.03307908,  0.17380923],\n",
              "         [ 0.20934716, -0.15645276,  0.60395455, ...,  0.3290351 ,\n",
              "          -0.3582717 ,  0.0810039 ]]], dtype=float32)>,\n",
              " <tf.Tensor: shape=(2, 128, 768), dtype=float32, numpy=\n",
              " array([[[ 0.0141815 , -0.22088243, -0.15028161, ...,  0.11415622,\n",
              "           0.12618113,  0.0484337 ],\n",
              "         [ 1.2033907 ,  1.3469868 ,  1.7064533 , ...,  0.30610555,\n",
              "          -0.5074257 , -0.55147445],\n",
              "         [ 0.42169076,  0.8110244 , -0.25631598, ..., -0.07722477,\n",
              "           0.89372355, -1.4472058 ],\n",
              "         ...,\n",
              "         [-0.19047451, -0.23860833,  0.8141205 , ...,  0.9749363 ,\n",
              "          -0.34774232, -0.08733563],\n",
              "         [-0.27150986, -0.31984976,  0.7659388 , ...,  0.96761745,\n",
              "          -0.29511926, -0.15731803],\n",
              "         [-0.21302722, -0.19229679,  0.73387754, ...,  1.104044  ,\n",
              "          -0.4510289 , -0.20683062]],\n",
              " \n",
              "        [[ 0.08973332, -0.184197  , -0.16645093, ...,  0.02761342,\n",
              "           0.11187734,  0.08041727],\n",
              "         [ 0.58311343,  0.59570277,  0.36019543, ...,  0.41270077,\n",
              "           0.2680917 ,  0.28400552],\n",
              "         [ 2.1166677 ,  0.5176941 ,  0.8637748 , ...,  0.71787316,\n",
              "           0.32405078,  0.09739965],\n",
              "         ...,\n",
              "         [ 0.24372923, -0.05775537,  0.68428767, ...,  0.4348358 ,\n",
              "          -0.5766094 , -0.11131077],\n",
              "         [ 0.16803887, -0.03091843,  0.5863844 , ...,  0.4962581 ,\n",
              "          -0.5056794 , -0.2078219 ],\n",
              "         [ 0.24831752,  0.00315461,  0.51592517, ...,  0.80502367,\n",
              "          -0.6989964 , -0.24186437]]], dtype=float32)>,\n",
              " <tf.Tensor: shape=(2, 128, 768), dtype=float32, numpy=\n",
              " array([[[ 0.022754  , -0.2798022 ,  0.02345739, ...,  0.27867013,\n",
              "           0.11714837,  0.18175061],\n",
              "         [ 1.2574847 ,  0.8725082 ,  1.626602  , ...,  0.45210946,\n",
              "          -0.8090261 , -0.5448982 ],\n",
              "         [ 0.75219864,  0.6357363 , -0.20566148, ..., -0.32381788,\n",
              "           0.75749505, -1.4587923 ],\n",
              "         ...,\n",
              "         [-0.15107417, -0.21129063,  0.9689462 , ...,  1.1261967 ,\n",
              "          -0.03214077, -0.2234026 ],\n",
              "         [-0.28125617, -0.3114001 ,  0.84328914, ...,  1.134268  ,\n",
              "          -0.08336581, -0.25161245],\n",
              "         [-0.24449044, -0.21537845,  0.9480986 , ...,  1.2419426 ,\n",
              "          -0.19873483, -0.33752558]],\n",
              " \n",
              "        [[ 0.10617068, -0.27990752, -0.017318  , ...,  0.20060441,\n",
              "           0.08148395,  0.21859078],\n",
              "         [ 0.68925875,  0.3159155 ,  0.5558665 , ...,  0.69039506,\n",
              "          -0.07141594,  0.4140721 ],\n",
              "         [ 2.5758889 ,  0.6252092 ,  1.2503715 , ...,  0.43957725,\n",
              "          -0.18525645, -0.0500485 ],\n",
              "         ...,\n",
              "         [ 0.20464353, -0.01561971,  0.8343146 , ...,  0.8014957 ,\n",
              "          -0.12853873, -0.3584206 ],\n",
              "         [-0.02875618,  0.05097781,  0.6815926 , ...,  0.9003145 ,\n",
              "          -0.12434848, -0.42256358],\n",
              "         [ 0.13327712,  0.02257282,  0.7722172 , ...,  1.0211186 ,\n",
              "          -0.30834734, -0.45623207]]], dtype=float32)>,\n",
              " <tf.Tensor: shape=(2, 128, 768), dtype=float32, numpy=\n",
              " array([[[ 0.11484888, -0.6444107 , -0.14245118, ...,  0.25474176,\n",
              "           0.00378466,  0.61105067],\n",
              "         [ 1.3035431 ,  0.7706049 ,  1.3185003 , ...,  0.3582253 ,\n",
              "          -0.6412161 , -0.32795352],\n",
              "         [ 1.189674  ,  0.6279444 , -0.67501664, ..., -0.28870654,\n",
              "           0.4779185 , -1.2806    ],\n",
              "         ...,\n",
              "         [-0.22614768, -0.6276293 ,  1.0227488 , ...,  0.8292315 ,\n",
              "          -0.40314695,  0.04389299],\n",
              "         [-0.39901447, -0.75619006,  0.7489379 , ...,  0.74922657,\n",
              "          -0.4507774 , -0.00367954],\n",
              "         [-0.37728778, -0.78310376,  0.9057255 , ...,  0.973623  ,\n",
              "          -0.48285764, -0.07389803]],\n",
              " \n",
              "        [[ 0.15151398, -0.707523  , -0.27520427, ...,  0.44345918,\n",
              "          -0.20920381,  0.4986015 ],\n",
              "         [ 0.8864792 , -0.24838145,  0.73537517, ...,  0.7417942 ,\n",
              "          -0.1317719 ,  0.10158527],\n",
              "         [ 2.5865817 ,  0.61882865,  0.5279885 , ...,  0.84873104,\n",
              "          -0.591502  ,  0.02349908],\n",
              "         ...,\n",
              "         [-0.05526859, -0.43394673,  1.1783335 , ...,  0.9179163 ,\n",
              "          -0.4571814 , -0.25014642],\n",
              "         [-0.29328665, -0.2309128 ,  0.99380094, ...,  1.0353788 ,\n",
              "          -0.42435685, -0.3494764 ],\n",
              "         [-0.15899098, -0.500982  ,  0.98142135, ...,  1.1373075 ,\n",
              "          -0.618884  , -0.4445778 ]]], dtype=float32)>,\n",
              " <tf.Tensor: shape=(2, 128, 768), dtype=float32, numpy=\n",
              " array([[[-0.22174822, -0.42225322, -0.04924008, ..., -0.26284215,\n",
              "           0.06099999,  0.6379488 ],\n",
              "         [ 1.1627903 ,  0.67705387,  1.3072387 , ...,  0.22794692,\n",
              "          -0.5432953 , -0.27383244],\n",
              "         [ 1.5308233 ,  0.72225523, -0.4360868 , ...,  0.274358  ,\n",
              "           0.24980216, -0.98753756],\n",
              "         ...,\n",
              "         [-0.1766976 , -0.31260562,  1.0875317 , ...,  0.59242165,\n",
              "           0.01275366, -0.2817189 ],\n",
              "         [-0.34473768, -0.4242998 ,  0.879802  , ...,  0.5482609 ,\n",
              "          -0.08151959, -0.34001425],\n",
              "         [-0.48139882, -0.31324267,  1.1702348 , ...,  0.8730991 ,\n",
              "          -0.07970197, -0.45325473]],\n",
              " \n",
              "        [[-0.2160814 , -0.8986421 , -0.44991505, ..., -0.0828622 ,\n",
              "          -0.17226863,  0.6619985 ],\n",
              "         [ 0.66614485, -0.54916877,  0.4646058 , ...,  0.17649387,\n",
              "           0.22822551,  0.34962228],\n",
              "         [ 2.0629625 ,  0.6991985 ,  0.35604492, ...,  0.52953345,\n",
              "          -0.3480932 ,  0.00831368],\n",
              "         ...,\n",
              "         [-0.11594017, -0.17149235,  0.89943993, ...,  0.62990135,\n",
              "          -0.3399021 , -0.2004921 ],\n",
              "         [-0.1300757 , -0.02739053,  0.70799804, ...,  0.805946  ,\n",
              "          -0.30724174, -0.19956349],\n",
              "         [-0.26314875, -0.26137108,  0.6338569 , ...,  0.81501836,\n",
              "          -0.45400348, -0.35120648]]], dtype=float32)>,\n",
              " <tf.Tensor: shape=(2, 128, 768), dtype=float32, numpy=\n",
              " array([[[-0.03392678, -0.3943149 ,  0.04223746, ..., -0.07905626,\n",
              "           0.0199391 ,  0.7692065 ],\n",
              "         [ 1.4294363 , -0.08699038,  1.5299492 , ...,  0.2251216 ,\n",
              "          -1.0060081 , -0.23702249],\n",
              "         [ 1.5031744 ,  0.6725799 , -0.52590156, ...,  0.10906915,\n",
              "           0.27042365, -1.2567505 ],\n",
              "         ...,\n",
              "         [-0.3003353 , -0.0226192 ,  1.3187408 , ...,  0.6928876 ,\n",
              "          -0.09798407, -0.1741969 ],\n",
              "         [-0.43754116, -0.21149197,  1.109457  , ...,  0.50065994,\n",
              "          -0.17692432, -0.1852912 ],\n",
              "         [-0.6592053 , -0.19607899,  1.3134071 , ...,  0.7320084 ,\n",
              "          -0.19967385, -0.32469177]],\n",
              " \n",
              "        [[-0.27334678, -0.952685  , -0.7869656 , ..., -0.12205333,\n",
              "          -0.08783776,  0.75811654],\n",
              "         [ 0.46756968, -0.16237502, -0.01155889, ...,  0.1878123 ,\n",
              "           0.6216473 ,  0.03009939],\n",
              "         [ 1.7947402 ,  0.90510744,  0.08580865, ...,  0.77093554,\n",
              "          -0.6682792 , -0.06755488],\n",
              "         ...,\n",
              "         [-0.18337473, -0.1580655 ,  1.1826948 , ...,  0.83047515,\n",
              "          -0.3940643 , -0.23047724],\n",
              "         [-0.22270253,  0.00975994,  0.9340851 , ...,  1.1286676 ,\n",
              "          -0.34884378, -0.19491449],\n",
              "         [-0.30386135, -0.29683143,  0.8247166 , ...,  1.009081  ,\n",
              "          -0.4640763 , -0.31465626]]], dtype=float32)>,\n",
              " <tf.Tensor: shape=(2, 128, 768), dtype=float32, numpy=\n",
              " array([[[-0.23803446, -0.6655409 ,  0.29917172, ...,  0.03415091,\n",
              "           0.29362857,  0.965363  ],\n",
              "         [ 1.5040761 ,  0.0069508 ,  1.4314139 , ...,  0.2462883 ,\n",
              "          -0.55219644, -0.32215518],\n",
              "         [ 1.3629032 ,  0.477418  , -0.6152987 , ...,  0.08586943,\n",
              "           0.43922484, -1.5594158 ],\n",
              "         ...,\n",
              "         [-0.1686392 ,  0.00209707,  1.3201768 , ...,  0.94280356,\n",
              "          -0.04737285,  0.21490394],\n",
              "         [-0.2666637 , -0.24881224,  1.2213259 , ...,  0.63528013,\n",
              "          -0.04442474,  0.04466267],\n",
              "         [-0.5336613 , -0.3579608 ,  1.3447874 , ...,  0.6038454 ,\n",
              "          -0.08427186, -0.15712048]],\n",
              " \n",
              "        [[-0.05967469, -0.8448222 , -0.8939019 , ..., -0.10863975,\n",
              "           0.4093247 ,  0.7940862 ],\n",
              "         [ 0.54405093, -0.3196293 , -0.45491588, ...,  0.4806863 ,\n",
              "           0.7786254 ,  0.22774309],\n",
              "         [ 1.4479868 ,  1.1230612 ,  0.09567924, ...,  1.3554293 ,\n",
              "           0.061435  , -0.00836904],\n",
              "         ...,\n",
              "         [ 0.25652277, -0.14106551,  1.1854346 , ...,  0.9568366 ,\n",
              "          -0.2160394 , -0.06946401],\n",
              "         [ 0.2581904 ,  0.0794919 ,  0.98516536, ...,  1.0518221 ,\n",
              "          -0.07890969, -0.12841478],\n",
              "         [-0.05268877, -0.33431387,  0.96373445, ...,  0.89607006,\n",
              "          -0.10082405, -0.28129643]]], dtype=float32)>,\n",
              " <tf.Tensor: shape=(2, 128, 768), dtype=float32, numpy=\n",
              " array([[[-7.08268881e-02, -2.56898940e-01, -3.59629802e-02, ...,\n",
              "          -3.58813316e-01,  1.35247946e-01,  1.01361144e+00],\n",
              "         [ 9.74719822e-01, -1.97128832e-01,  1.43180776e+00, ...,\n",
              "          -1.40520185e-01, -5.04323542e-02, -2.71418113e-02],\n",
              "         [ 1.12734008e+00,  2.71228075e-01, -2.86228985e-01, ...,\n",
              "           9.33856368e-02,  2.99082607e-01, -1.37644470e+00],\n",
              "         ...,\n",
              "         [-9.57858339e-02,  2.91807681e-01,  1.58791542e+00, ...,\n",
              "           8.50042522e-01, -5.12845591e-02,  2.03400791e-01],\n",
              "         [-2.22687557e-01, -8.38954747e-02,  1.72560060e+00, ...,\n",
              "           6.12222373e-01,  1.09765664e-01,  7.00467229e-02],\n",
              "         [-5.78299701e-01, -3.59156400e-01,  1.60359657e+00, ...,\n",
              "           3.41899335e-01,  5.28811216e-02, -1.54009342e-01]],\n",
              " \n",
              "        [[ 6.10172749e-02, -3.51616919e-01, -8.48914683e-01, ...,\n",
              "          -4.85550016e-01,  4.27031398e-01,  6.38290167e-01],\n",
              "         [ 6.63765013e-01,  1.82738528e-04, -7.90789247e-01, ...,\n",
              "           3.06869984e-01,  7.58436382e-01,  7.32401311e-01],\n",
              "         [ 1.44947016e+00,  1.12650383e+00,  1.77091554e-01, ...,\n",
              "           2.34716088e-01,  3.49294633e-01,  4.37097669e-01],\n",
              "         ...,\n",
              "         [ 3.23395222e-01,  1.75758243e-01,  8.76723826e-01, ...,\n",
              "           9.89040852e-01, -2.70508230e-01, -3.08094800e-01],\n",
              "         [ 4.04042006e-01,  5.13649344e-01,  7.27481306e-01, ...,\n",
              "           9.49421167e-01, -1.02160126e-02, -3.46442819e-01],\n",
              "         [-9.13004670e-03, -8.70167464e-02,  7.30318487e-01, ...,\n",
              "           8.54397297e-01, -1.36612430e-01, -4.74935710e-01]]],\n",
              "       dtype=float32)>,\n",
              " <tf.Tensor: shape=(2, 128, 768), dtype=float32, numpy=\n",
              " array([[[-0.09403498, -0.0598757 , -0.01171722, ..., -0.22167572,\n",
              "          -0.07650103,  0.5765811 ],\n",
              "         [ 0.7748069 ,  0.15188237,  1.0920007 , ..., -0.19562382,\n",
              "           0.15173142, -0.01071374],\n",
              "         [ 0.8519131 ,  0.25842762, -0.77035546, ...,  0.03356663,\n",
              "           0.34010437, -1.391869  ],\n",
              "         ...,\n",
              "         [-0.19780241,  0.5281968 ,  0.90235406, ...,  0.27919796,\n",
              "          -0.28763974,  0.75109255],\n",
              "         [-0.3506731 ,  0.09291988,  1.3383346 , ...,  0.22619653,\n",
              "          -0.03589016,  0.2734392 ],\n",
              "         [-0.90445024, -0.20991236,  1.197735  , ...,  0.3511855 ,\n",
              "          -0.21743612,  0.01482248]],\n",
              " \n",
              "        [[-0.07011148, -0.02392565, -0.61924344, ..., -0.1454205 ,\n",
              "           0.3404939 ,  0.41224745],\n",
              "         [ 0.5926161 ,  0.19015935, -0.3739965 , ...,  0.372396  ,\n",
              "           0.39152846,  0.42580396],\n",
              "         [ 1.1394776 ,  0.8439855 ,  0.38893935, ...,  0.20898308,\n",
              "           0.2517631 ,  0.26399997],\n",
              "         ...,\n",
              "         [ 0.43305945,  0.420121  ,  1.0965105 , ...,  1.1872362 ,\n",
              "          -0.16672093,  0.00856137],\n",
              "         [ 0.5754233 ,  0.8660943 ,  1.1184692 , ...,  1.0475053 ,\n",
              "           0.04264218, -0.01540378],\n",
              "         [-0.0548794 , -0.0730695 ,  0.901221  , ...,  0.8004527 ,\n",
              "          -0.1682066 , -0.3550739 ]]], dtype=float32)>,\n",
              " <tf.Tensor: shape=(2, 128, 768), dtype=float32, numpy=\n",
              " array([[[-0.22671384,  0.03110909,  0.32186073, ..., -0.280902  ,\n",
              "          -0.75050825,  0.44557926],\n",
              "         [ 0.77125627,  0.11217944,  0.6603324 , ..., -0.09223782,\n",
              "           0.34821117, -0.36905062],\n",
              "         [ 0.51224047, -0.19928946, -0.84775054, ..., -0.28812099,\n",
              "           0.22383782, -1.2124609 ],\n",
              "         ...,\n",
              "         [ 0.12500839,  0.6663389 ,  0.98522127, ..., -0.08709346,\n",
              "          -0.58054507,  0.61272293],\n",
              "         [ 0.01400433,  0.10471258,  1.2684816 , ..., -0.0183312 ,\n",
              "          -0.3593319 ,  0.154632  ],\n",
              "         [-0.809383  , -0.36068085,  1.3501272 , ...,  0.58936024,\n",
              "          -0.5093233 , -0.09766923]],\n",
              " \n",
              "        [[-0.2153506 , -0.23962234, -0.3093241 , ..., -0.2596502 ,\n",
              "           0.09695227,  0.41826692],\n",
              "         [ 0.5070062 , -0.0154487 , -0.10519721, ...,  0.38675296,\n",
              "           0.22041114, -0.10293277],\n",
              "         [ 1.036605  ,  0.9171308 ,  0.2616408 , ...,  0.33182147,\n",
              "           0.45596987,  0.12697864],\n",
              "         ...,\n",
              "         [ 0.16190521,  0.7627006 ,  1.2737674 , ...,  0.57259965,\n",
              "          -0.05929527,  0.26224026],\n",
              "         [ 0.46124518,  1.1673871 ,  0.95947737, ...,  0.4603293 ,\n",
              "           0.13521244,  0.45136014],\n",
              "         [-0.2418406 ,  0.17352709,  0.8415642 , ...,  0.2476683 ,\n",
              "          -0.14810288,  0.06557406]]], dtype=float32)>,\n",
              " <tf.Tensor: shape=(2, 128, 768), dtype=float32, numpy=\n",
              " array([[[-2.1951936e-02,  2.1303593e-01,  3.1135893e-01, ...,\n",
              "          -2.3917940e-01, -2.7870858e-01,  2.0408422e-01],\n",
              "         [ 8.3098489e-01,  1.9078162e-01,  7.1134675e-01, ...,\n",
              "          -3.0024454e-01,  3.1152394e-01, -2.5933987e-01],\n",
              "         [ 3.7308916e-01, -4.2212570e-01, -6.6690940e-01, ...,\n",
              "          -4.5297661e-01,  3.2045245e-01, -2.9988664e-01],\n",
              "         ...,\n",
              "         [ 3.3166629e-01,  7.1835852e-01,  8.9961106e-01, ...,\n",
              "          -3.4914488e-01, -2.9986927e-01,  5.2388752e-01],\n",
              "         [ 2.3853327e-01,  2.0484427e-01,  1.1306421e+00, ...,\n",
              "          -1.5113017e-01, -1.3781142e-01,  7.6999187e-02],\n",
              "         [-3.8412043e-01, -3.8158700e-01,  1.3397284e+00, ...,\n",
              "           5.7755452e-01, -1.5539998e-01, -2.9294521e-01]],\n",
              " \n",
              "        [[ 1.4363012e-01,  1.6980144e-01,  4.5120083e-02, ...,\n",
              "          -6.2168173e-02, -1.5753355e-02,  2.8786987e-01],\n",
              "         [ 5.8476043e-01,  2.6993251e-01, -2.8520763e-01, ...,\n",
              "           3.3893082e-01,  1.1777294e-01,  3.6986470e-02],\n",
              "         [ 1.2525783e+00,  1.2556438e+00,  3.8754278e-01, ...,\n",
              "           1.7275792e-01,  4.9666113e-01,  6.1378056e-01],\n",
              "         ...,\n",
              "         [ 1.9548555e-01,  4.4081903e-01,  1.0389364e+00, ...,\n",
              "           1.4527021e-01, -2.7743948e-01,  1.9032116e-01],\n",
              "         [ 4.4816521e-01,  7.6447743e-01,  6.9800514e-01, ...,\n",
              "          -8.3665829e-04, -7.9645433e-02,  4.9335808e-01],\n",
              "         [-2.3398149e-01, -2.0333624e-01,  3.4824726e-01, ...,\n",
              "          -6.4342633e-02, -3.2087630e-01,  2.2333944e-02]]], dtype=float32)>,\n",
              " <tf.Tensor: shape=(2, 128, 768), dtype=float32, numpy=\n",
              " array([[[ 0.07292047,  0.08567817,  0.14476831, ..., -0.09677088,\n",
              "           0.08722127,  0.07711085],\n",
              "         [ 0.1783942 , -0.19006078,  0.5034952 , ..., -0.05869824,\n",
              "           0.32717073, -0.15578493],\n",
              "         [ 0.18701449, -0.43388748, -0.4887515 , ..., -0.15502778,\n",
              "           0.00145182, -0.24471016],\n",
              "         ...,\n",
              "         [ 0.12083091,  0.12884252,  0.46453542, ...,  0.0737552 ,\n",
              "           0.17441946,  0.16522075],\n",
              "         [ 0.07967882, -0.01190652,  0.502254  , ...,  0.13777725,\n",
              "           0.21002197,  0.00624588],\n",
              "         [-0.07212701, -0.28303462,  0.59033376, ...,  0.475519  ,\n",
              "           0.16668482, -0.08920349]],\n",
              " \n",
              "        [[-0.0790059 ,  0.36335096, -0.21101595, ..., -0.17183761,\n",
              "           0.16299714,  0.6724268 ],\n",
              "         [ 0.27883548,  0.43716297, -0.35764822, ..., -0.04463654,\n",
              "           0.38315183,  0.5887981 ],\n",
              "         [ 1.2037671 ,  1.0727016 ,  0.48408663, ...,  0.24921048,\n",
              "           0.407309  ,  0.40481755],\n",
              "         ...,\n",
              "         [ 0.0863    ,  0.19353832,  0.47540003, ...,  0.18880187,\n",
              "          -0.06474143,  0.31318575],\n",
              "         [ 0.15887049,  0.28572667,  0.37340778, ...,  0.09309112,\n",
              "          -0.04969596,  0.38761103],\n",
              "         [-0.08079894, -0.09572853,  0.26809773, ...,  0.13979608,\n",
              "          -0.06315878,  0.27288324]]], dtype=float32)>]"
            ]
          },
          "metadata": {},
          "execution_count": 18
        }
      ]
    },
    {
      "cell_type": "code",
      "source": [
        "bert_results['sequence_output']"
      ],
      "metadata": {
        "colab": {
          "base_uri": "https://localhost:8080/"
        },
        "id": "THyw_6Ih7Au2",
        "outputId": "eb40fa48-a53c-42bf-cb10-e51093b11461"
      },
      "execution_count": 19,
      "outputs": [
        {
          "output_type": "execute_result",
          "data": {
            "text/plain": [
              "<tf.Tensor: shape=(2, 128, 768), dtype=float32, numpy=\n",
              "array([[[ 0.07292047,  0.08567817,  0.14476831, ..., -0.09677088,\n",
              "          0.08722127,  0.07711085],\n",
              "        [ 0.1783942 , -0.19006078,  0.5034952 , ..., -0.05869824,\n",
              "          0.32717073, -0.15578493],\n",
              "        [ 0.18701449, -0.43388748, -0.4887515 , ..., -0.15502778,\n",
              "          0.00145182, -0.24471016],\n",
              "        ...,\n",
              "        [ 0.12083091,  0.12884252,  0.46453542, ...,  0.0737552 ,\n",
              "          0.17441946,  0.16522075],\n",
              "        [ 0.07967882, -0.01190652,  0.502254  , ...,  0.13777725,\n",
              "          0.21002197,  0.00624588],\n",
              "        [-0.07212701, -0.28303462,  0.59033376, ...,  0.475519  ,\n",
              "          0.16668482, -0.08920349]],\n",
              "\n",
              "       [[-0.0790059 ,  0.36335096, -0.21101595, ..., -0.17183761,\n",
              "          0.16299714,  0.6724268 ],\n",
              "        [ 0.27883548,  0.43716297, -0.35764822, ..., -0.04463654,\n",
              "          0.38315183,  0.5887981 ],\n",
              "        [ 1.2037671 ,  1.0727016 ,  0.48408663, ...,  0.24921048,\n",
              "          0.407309  ,  0.40481755],\n",
              "        ...,\n",
              "        [ 0.0863    ,  0.19353832,  0.47540003, ...,  0.18880187,\n",
              "         -0.06474143,  0.31318575],\n",
              "        [ 0.15887049,  0.28572667,  0.37340778, ...,  0.09309112,\n",
              "         -0.04969596,  0.38761103],\n",
              "        [-0.08079894, -0.09572853,  0.26809773, ...,  0.13979608,\n",
              "         -0.06315878,  0.27288324]]], dtype=float32)>"
            ]
          },
          "metadata": {},
          "execution_count": 19
        }
      ]
    },
    {
      "cell_type": "code",
      "source": [
        "bert_results['encoder_outputs'][-1] == bert_results['sequence_output']"
      ],
      "metadata": {
        "colab": {
          "base_uri": "https://localhost:8080/"
        },
        "id": "RLZLzhSz7eZ0",
        "outputId": "cbe99907-780a-4093-cbb1-8d066f74efb8"
      },
      "execution_count": 20,
      "outputs": [
        {
          "output_type": "execute_result",
          "data": {
            "text/plain": [
              "<tf.Tensor: shape=(2, 128, 768), dtype=bool, numpy=\n",
              "array([[[ True,  True,  True, ...,  True,  True,  True],\n",
              "        [ True,  True,  True, ...,  True,  True,  True],\n",
              "        [ True,  True,  True, ...,  True,  True,  True],\n",
              "        ...,\n",
              "        [ True,  True,  True, ...,  True,  True,  True],\n",
              "        [ True,  True,  True, ...,  True,  True,  True],\n",
              "        [ True,  True,  True, ...,  True,  True,  True]],\n",
              "\n",
              "       [[ True,  True,  True, ...,  True,  True,  True],\n",
              "        [ True,  True,  True, ...,  True,  True,  True],\n",
              "        [ True,  True,  True, ...,  True,  True,  True],\n",
              "        ...,\n",
              "        [ True,  True,  True, ...,  True,  True,  True],\n",
              "        [ True,  True,  True, ...,  True,  True,  True],\n",
              "        [ True,  True,  True, ...,  True,  True,  True]]])>"
            ]
          },
          "metadata": {},
          "execution_count": 20
        }
      ]
    }
  ]
}